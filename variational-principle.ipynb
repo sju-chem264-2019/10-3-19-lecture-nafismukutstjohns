{
 "cells": [
  {
   "cell_type": "markdown",
   "metadata": {},
   "source": [
    "# Variational Principle  using Symbolic Mathematics in Python "
   ]
  },
  {
   "cell_type": "markdown",
   "metadata": {},
   "source": [
    "## 1. Introduction"
   ]
  },
  {
   "cell_type": "markdown",
   "metadata": {},
   "source": [
    "The variational principle tells us that we can use a trial wavefunction to solve the Schrodinger equation using the following theorem:\n",
    "\n",
    "$${{\\int {{\\Psi ^*}\\hat H{\\rm{ }}\\Psi } d\\tau } \\over {\\int {{\\Psi ^*}\\Psi } d\\tau }} \\ge {E_0}$$\n",
    "\n",
    "We will use Sympy to solve the particle in a box problem by guessing a trial wavefunction using variational principle"
   ]
  },
  {
   "cell_type": "code",
   "execution_count": 2,
   "metadata": {},
   "outputs": [],
   "source": [
    "import sympy as sym"
   ]
  },
  {
   "cell_type": "markdown",
   "metadata": {},
   "source": [
    "This exercise is a bit more self-guided than the other notebooks we have done. One of the most useful things you can do is **open last week's notebook to remember the commands in sympy**. Also, remember that google is your friend:\n",
    "\n",
    "1. [Sympy tutorial](https://docs.sympy.org/latest/tutorial/index.html)\n",
    "2. [Stack Overflow](https://stackoverflow.com/search?q=sympy+)\n",
    "3. [Stack Exchange](https://stackexchange.com/)"
   ]
  },
  {
   "cell_type": "markdown",
   "metadata": {},
   "source": [
    "## 2. Particle in a box"
   ]
  },
  {
   "cell_type": "markdown",
   "metadata": {},
   "source": [
    "The wave function that we pick for a particle in a box needs to have the following properties\n",
    "\n",
    "1. single valued\n",
    "1. normalizable\n",
    "1. function and its first derivative are continuous \n",
    "1. boundary condition that the wave function goes to zero at the ends of the box\n",
    "\n",
    "![Particle in a box](InfiniteSquareWellAnimation.gif)\n",
    "\n",
    "Particle in a box: a is a classical particle, red is real part, blue is imaginary part."
   ]
  },
  {
   "cell_type": "markdown",
   "metadata": {},
   "source": [
    "This particle only expericnes kinetic energy between the box, so the Hamiltonian for this system is\n",
    "\n",
    "$$\\hat H = {{ - {\\hbar ^2}} \\over {2m}}{{{d^2}} \\over {d{x^2}}} + \\left\\{ {\\matrix{{V(x) = 0} & {0 < x < a}  \\cr {V(x) = \\infty } & {x < 0\\text{ }{\\rm{ or}}\\;x > a}  \\cr } } \\right.$$\n",
    "\n",
    "For our purposes, that means we can consider the Hamiltonian to be \n",
    "\n",
    "$$\\hat H = {{ - {\\hbar ^2}} \\over {2m}}{{{d^2}} \\over {d{x^2}}}$$\n",
    "\n",
    "as long as we keep the limits of integration to be $(0,a)$"
   ]
  },
  {
   "cell_type": "markdown",
   "metadata": {},
   "source": [
    "### 2.1 Trial Wave function"
   ]
  },
  {
   "cell_type": "markdown",
   "metadata": {},
   "source": [
    "Although the particle in box has a well known solution\n",
    "\n",
    "[https://en.wikipedia.org/wiki/Particle_in_a_box](https://en.wikipedia.org/wiki/Particle_in_a_box)\n",
    "\n",
    "(or check your favorite pchem book)\n",
    "\n",
    "We are going to guess a trial wave function:\n",
    "\n",
    "$$\\Phi (x) = \\left( {{x \\over a} - {{{x^3}} \\over a}} \\right) + \\alpha \\left( {{{{x^5}} \\over {{a^5}}} - {1 \\over 2}\\left( {{{{x^7}} \\over {{a^7}}} + {{{x^7}} \\over {{a^7}}}} \\right)} \\right)$$"
   ]
  },
  {
   "cell_type": "markdown",
   "metadata": {},
   "source": [
    "### 2.2 Exercise: Variational Theorem"
   ]
  },
  {
   "cell_type": "markdown",
   "metadata": {},
   "source": [
    "We are going to follow the following plan:\n",
    "\n",
    "1. Solve for the energy of the trial wave function above  \n",
    "\n",
    "$${E_{trial}} = {{\\int\\limits_0^a {\\Phi (x){{ - {\\hbar ^2}} \\over {2m}}{{{d^2}} \\over {d{x^2}}}\\Phi (x)dx} } \\over {\\int\\limits_0^a {\\Phi {{(x)}^2}dx} }}$$\n",
    "\n",
    "Your answer will be a function of $ m,a,\\text{and } \\alpha$ We will use $\\alpha$ as the parameter we vary to minimize the energy and make a new trial wave function.\n",
    "\n",
    "2. Minimize the trial energy \n",
    "We will use a first derivative of the trial energy $${d \\over {d\\alpha }}{E_{trial}}(\\alpha )$$ to find the value of $\\alpha$ that gives you the lowest energy\n",
    "\n",
    "\n",
    "3. Plot your new wavefunction compared to the ground state particle in a box: $${\\psi _{true}}(x) = {\\left( {{2 \\over a}} \\right)^{1/2}}\\sin {{n\\pi x} \\over a}$$ Plot as a function of $x/a$ from $0$ to $1$. Assuming this has $m=m_e$, and $a=a_0$ use atomic (theorist) units to plot the function.\n",
    "\n",
    "4. Compare your trial energy to the actual energy (using atomic units)\n",
    "$${E_{true}}(n = 1) = {{{\\hbar ^2}{\\pi ^2}} \\over {2m{a^2}}}$$\n"
   ]
  },
  {
   "cell_type": "code",
   "execution_count": 8,
   "metadata": {},
   "outputs": [
    {
     "data": {
      "text/latex": [
       "$\\displaystyle \\alpha \\left(\\frac{x^{5}}{a^{5}} - \\frac{1.0 x^{7}}{a^{7}}\\right) + \\frac{x}{a} - \\frac{x^{3}}{a^{3}}$"
      ],
      "text/plain": [
       "alpha*(x**5/a**5 - 1.0*x**7/a**7) + x/a - x**3/a**3"
      ]
     },
     "execution_count": 8,
     "metadata": {},
     "output_type": "execute_result"
    }
   ],
   "source": [
    "# Your code here\n",
    "x,a,alpha=sym.symbols('x,a,alpha')\n",
    "phiexpr = ((x/a)-(x**3/a**3)) + alpha*((x**5/a**5) - ((1/2)*((x**7/a**7) + (x**7/a**7))))\n",
    "phiexpr"
   ]
  },
  {
   "cell_type": "code",
   "execution_count": 9,
   "metadata": {},
   "outputs": [
    {
     "data": {
      "text/latex": [
       "$\\displaystyle \\frac{3.313035075 \\cdot 10^{-34}}{\\pi}$"
      ],
      "text/plain": [
       "3.313035075e-34/pi"
      ]
     },
     "execution_count": 9,
     "metadata": {},
     "output_type": "execute_result"
    }
   ],
   "source": [
    "h=6.62607015*10**-34\n",
    "hbar=(h/(2*sym.pi))\n",
    "hbar"
   ]
  },
  {
   "cell_type": "code",
   "execution_count": 10,
   "metadata": {},
   "outputs": [
    {
     "data": {
      "text/latex": [
       "$\\displaystyle \\frac{\\frac{1.0}{a^{4}} + \\frac{0.2 \\left(- 10.0 \\alpha - 3.0\\right)}{a^{6}} + \\frac{4.85714285714286 \\alpha}{a^{8}} + \\frac{0.111111111111111 \\left(- 10.0 \\alpha^{2} - 24.0 \\alpha\\right)}{a^{10}} + \\frac{2.81818181818182 \\alpha^{2}}{a^{12}} - \\frac{1.61538461538462 \\alpha^{2}}{a^{14}}}{\\frac{0.333333333333333}{a^{2}} - \\frac{0.4}{a^{4}} + \\frac{0.142857142857143 \\left(2.0 \\alpha + 1.0\\right)}{a^{6}} - \\frac{0.444444444444444 \\alpha}{a^{8}} + \\frac{0.0909090909090909 \\left(1.0 \\alpha^{2} + 2.0 \\alpha\\right)}{a^{10}} - \\frac{0.153846153846154 \\alpha^{2}}{a^{12}} + \\frac{0.0666666666666667 \\alpha^{2}}{a^{14}}}$"
      ],
      "text/plain": [
       "(1.0/a**4 + 0.2*(-10.0*alpha - 3.0)/a**6 + 4.85714285714286*alpha/a**8 + 0.111111111111111*(-10.0*alpha**2 - 24.0*alpha)/a**10 + 2.81818181818182*alpha**2/a**12 - 1.61538461538462*alpha**2/a**14)/(0.333333333333333/a**2 - 0.4/a**4 + 0.142857142857143*(2.0*alpha + 1.0)/a**6 - 0.444444444444444*alpha/a**8 + 0.0909090909090909*(1.0*alpha**2 + 2.0*alpha)/a**10 - 0.153846153846154*alpha**2/a**12 + 0.0666666666666667*alpha**2/a**14)"
      ]
     },
     "execution_count": 10,
     "metadata": {},
     "output_type": "execute_result"
    }
   ],
   "source": [
    "x,alpha=sym.symbols('x,alpha')\n",
    "phiexpr = ((x/a)-(x**3/a**3)) + alpha*((x**5/a**5) - ((1/2)*((x**7/a**7) + (x**7/a**7))))\n",
    "onederivphi = sym.diff(phiexpr,x)\n",
    "twoderivphi = sym.diff(onederivphi,x)\n",
    "hbar=1\n",
    "a=1\n",
    "m=1\n",
    "etrialexpr1 = phiexpr*((-hbar**2)/2*m)*twoderivphi\n",
    "etrialexpr1int = sym.integrate(etrialexpr1, (x,0,a))\n",
    "etrialexpr2 = phiexpr**2\n",
    "etrialexpr2int = sym.integrate(etrialexpr2, (x,0,a))\n",
    "etrialexprfinal = etrialexpr1int/etrialexpr2int\n",
    "etrialexprfinal"
   ]
  },
  {
   "cell_type": "code",
   "execution_count": 11,
   "metadata": {},
   "outputs": [
    {
     "data": {
      "text/latex": [
       "$\\displaystyle \\frac{- \\frac{2.0}{a^{6}} + \\frac{4.85714285714286}{a^{8}} + \\frac{0.111111111111111 \\left(- 20.0 \\alpha - 24.0\\right)}{a^{10}} + \\frac{5.63636363636364 \\alpha}{a^{12}} - \\frac{3.23076923076923 \\alpha}{a^{14}}}{\\frac{0.333333333333333}{a^{2}} - \\frac{0.4}{a^{4}} + \\frac{0.142857142857143 \\left(2.0 \\alpha + 1.0\\right)}{a^{6}} - \\frac{0.444444444444444 \\alpha}{a^{8}} + \\frac{0.0909090909090909 \\left(1.0 \\alpha^{2} + 2.0 \\alpha\\right)}{a^{10}} - \\frac{0.153846153846154 \\alpha^{2}}{a^{12}} + \\frac{0.0666666666666667 \\alpha^{2}}{a^{14}}} + \\frac{\\left(- \\frac{0.285714285714286}{a^{6}} + \\frac{0.444444444444444}{a^{8}} - \\frac{0.0909090909090909 \\left(2.0 \\alpha + 2.0\\right)}{a^{10}} + \\frac{0.307692307692308 \\alpha}{a^{12}} - \\frac{0.133333333333333 \\alpha}{a^{14}}\\right) \\left(\\frac{1.0}{a^{4}} + \\frac{0.2 \\left(- 10.0 \\alpha - 3.0\\right)}{a^{6}} + \\frac{4.85714285714286 \\alpha}{a^{8}} + \\frac{0.111111111111111 \\left(- 10.0 \\alpha^{2} - 24.0 \\alpha\\right)}{a^{10}} + \\frac{2.81818181818182 \\alpha^{2}}{a^{12}} - \\frac{1.61538461538462 \\alpha^{2}}{a^{14}}\\right)}{\\left(\\frac{0.333333333333333}{a^{2}} - \\frac{0.4}{a^{4}} + \\frac{0.142857142857143 \\left(2.0 \\alpha + 1.0\\right)}{a^{6}} - \\frac{0.444444444444444 \\alpha}{a^{8}} + \\frac{0.0909090909090909 \\left(1.0 \\alpha^{2} + 2.0 \\alpha\\right)}{a^{10}} - \\frac{0.153846153846154 \\alpha^{2}}{a^{12}} + \\frac{0.0666666666666667 \\alpha^{2}}{a^{14}}\\right)^{2}}$"
      ],
      "text/plain": [
       "(-2.0/a**6 + 4.85714285714286/a**8 + 0.111111111111111*(-20.0*alpha - 24.0)/a**10 + 5.63636363636364*alpha/a**12 - 3.23076923076923*alpha/a**14)/(0.333333333333333/a**2 - 0.4/a**4 + 0.142857142857143*(2.0*alpha + 1.0)/a**6 - 0.444444444444444*alpha/a**8 + 0.0909090909090909*(1.0*alpha**2 + 2.0*alpha)/a**10 - 0.153846153846154*alpha**2/a**12 + 0.0666666666666667*alpha**2/a**14) + (-0.285714285714286/a**6 + 0.444444444444444/a**8 - 0.0909090909090909*(2.0*alpha + 2.0)/a**10 + 0.307692307692308*alpha/a**12 - 0.133333333333333*alpha/a**14)*(1.0/a**4 + 0.2*(-10.0*alpha - 3.0)/a**6 + 4.85714285714286*alpha/a**8 + 0.111111111111111*(-10.0*alpha**2 - 24.0*alpha)/a**10 + 2.81818181818182*alpha**2/a**12 - 1.61538461538462*alpha**2/a**14)/(0.333333333333333/a**2 - 0.4/a**4 + 0.142857142857143*(2.0*alpha + 1.0)/a**6 - 0.444444444444444*alpha/a**8 + 0.0909090909090909*(1.0*alpha**2 + 2.0*alpha)/a**10 - 0.153846153846154*alpha**2/a**12 + 0.0666666666666667*alpha**2/a**14)**2"
      ]
     },
     "execution_count": 11,
     "metadata": {},
     "output_type": "execute_result"
    }
   ],
   "source": [
    "sym.diff(etrialexprfinal,alpha)"
   ]
  },
  {
   "cell_type": "code",
   "execution_count": 13,
   "metadata": {},
   "outputs": [
    {
     "data": {
      "text/latex": [
       "$\\displaystyle \\frac{- \\frac{2.0}{a^{6}} + \\frac{4.85714285714286}{a^{8}} + \\frac{0.111111111111111 \\left(- 20.0 \\alpha - 24.0\\right)}{a^{10}} + \\frac{5.63636363636364 \\alpha}{a^{12}} - \\frac{3.23076923076923 \\alpha}{a^{14}}}{\\frac{0.333333333333333}{a^{2}} - \\frac{0.4}{a^{4}} + \\frac{0.142857142857143 \\left(2.0 \\alpha + 1.0\\right)}{a^{6}} - \\frac{0.444444444444444 \\alpha}{a^{8}} + \\frac{0.0909090909090909 \\left(1.0 \\alpha^{2} + 2.0 \\alpha\\right)}{a^{10}} - \\frac{0.153846153846154 \\alpha^{2}}{a^{12}} + \\frac{0.0666666666666667 \\alpha^{2}}{a^{14}}} + \\frac{\\left(- \\frac{0.285714285714286}{a^{6}} + \\frac{0.444444444444444}{a^{8}} - \\frac{0.0909090909090909 \\left(2.0 \\alpha + 2.0\\right)}{a^{10}} + \\frac{0.307692307692308 \\alpha}{a^{12}} - \\frac{0.133333333333333 \\alpha}{a^{14}}\\right) \\left(\\frac{1.0}{a^{4}} + \\frac{0.2 \\left(- 10.0 \\alpha - 3.0\\right)}{a^{6}} + \\frac{4.85714285714286 \\alpha}{a^{8}} + \\frac{0.111111111111111 \\left(- 10.0 \\alpha^{2} - 24.0 \\alpha\\right)}{a^{10}} + \\frac{2.81818181818182 \\alpha^{2}}{a^{12}} - \\frac{1.61538461538462 \\alpha^{2}}{a^{14}}\\right)}{\\left(\\frac{0.333333333333333}{a^{2}} - \\frac{0.4}{a^{4}} + \\frac{0.142857142857143 \\left(2.0 \\alpha + 1.0\\right)}{a^{6}} - \\frac{0.444444444444444 \\alpha}{a^{8}} + \\frac{0.0909090909090909 \\left(1.0 \\alpha^{2} + 2.0 \\alpha\\right)}{a^{10}} - \\frac{0.153846153846154 \\alpha^{2}}{a^{12}} + \\frac{0.0666666666666667 \\alpha^{2}}{a^{14}}\\right)^{2}}$"
      ],
      "text/plain": [
       "(-2.0/a**6 + 4.85714285714286/a**8 + 0.111111111111111*(-20.0*alpha - 24.0)/a**10 + 5.63636363636364*alpha/a**12 - 3.23076923076923*alpha/a**14)/(0.333333333333333/a**2 - 0.4/a**4 + 0.142857142857143*(2.0*alpha + 1.0)/a**6 - 0.444444444444444*alpha/a**8 + 0.0909090909090909*(1.0*alpha**2 + 2.0*alpha)/a**10 - 0.153846153846154*alpha**2/a**12 + 0.0666666666666667*alpha**2/a**14) + (-0.285714285714286/a**6 + 0.444444444444444/a**8 - 0.0909090909090909*(2.0*alpha + 2.0)/a**10 + 0.307692307692308*alpha/a**12 - 0.133333333333333*alpha/a**14)*(1.0/a**4 + 0.2*(-10.0*alpha - 3.0)/a**6 + 4.85714285714286*alpha/a**8 + 0.111111111111111*(-10.0*alpha**2 - 24.0*alpha)/a**10 + 2.81818181818182*alpha**2/a**12 - 1.61538461538462*alpha**2/a**14)/(0.333333333333333/a**2 - 0.4/a**4 + 0.142857142857143*(2.0*alpha + 1.0)/a**6 - 0.444444444444444*alpha/a**8 + 0.0909090909090909*(1.0*alpha**2 + 2.0*alpha)/a**10 - 0.153846153846154*alpha**2/a**12 + 0.0666666666666667*alpha**2/a**14)**2"
      ]
     },
     "execution_count": 13,
     "metadata": {},
     "output_type": "execute_result"
    }
   ],
   "source": [
    "etrialplot = sym.diff(etrialexprfinal,alpha)\n",
    "etrialplot"
   ]
  },
  {
   "cell_type": "code",
   "execution_count": null,
   "metadata": {},
   "outputs": [],
   "source": []
  },
  {
   "cell_type": "markdown",
   "metadata": {},
   "source": [
    "Your descriptions/explanations here"
   ]
  },
  {
   "cell_type": "markdown",
   "metadata": {},
   "source": [
    "### 2.3 Exercise: New trial wavefunction"
   ]
  },
  {
   "cell_type": "markdown",
   "metadata": {},
   "source": [
    "Determine the minimum energy of the particle in a box using a new trial wavefunction $$x^\\alpha(x-a)^\\alpha$$\n",
    "\n",
    "1. Find the minimum energy, $E_{trial}$\n",
    "2. Plot the new trial wavefunction and compare it to the true solution and the wavefunction you found above\n",
    "3. Compare you new energy to the trial energy you found above\n",
    "4. Which wavefunction is better? How do you know?"
   ]
  },
  {
   "cell_type": "code",
   "execution_count": 3,
   "metadata": {},
   "outputs": [
    {
     "data": {
      "text/latex": [
       "$\\displaystyle x^{\\alpha} \\left(- \\alpha + x\\right)^{\\alpha}$"
      ],
      "text/plain": [
       "x**alpha*(-alpha + x)**alpha"
      ]
     },
     "execution_count": 3,
     "metadata": {},
     "output_type": "execute_result"
    }
   ],
   "source": [
    "x,a,m,alpha,hbar=sym.symbols('x,a,m,alpha,h_bar')\n",
    "\n",
    "twf_2=x**alpha*(x-alpha)**alpha\n",
    "twf_2"
   ]
  },
  {
   "cell_type": "code",
   "execution_count": 4,
   "metadata": {},
   "outputs": [
    {
     "data": {
      "text/latex": [
       "$\\displaystyle \\frac{\\alpha^{2} x^{\\alpha} \\left(- \\alpha + x\\right)^{\\alpha}}{\\left(- \\alpha + x\\right)^{2}} + \\frac{2 \\alpha^{2} x^{\\alpha} \\left(- \\alpha + x\\right)^{\\alpha}}{x \\left(- \\alpha + x\\right)} + \\frac{\\alpha^{2} x^{\\alpha} \\left(- \\alpha + x\\right)^{\\alpha}}{x^{2}} - \\frac{\\alpha x^{\\alpha} \\left(- \\alpha + x\\right)^{\\alpha}}{\\left(- \\alpha + x\\right)^{2}} - \\frac{\\alpha x^{\\alpha} \\left(- \\alpha + x\\right)^{\\alpha}}{x^{2}}$"
      ],
      "text/plain": [
       "alpha**2*x**alpha*(-alpha + x)**alpha/(-alpha + x)**2 + 2*alpha**2*x**alpha*(-alpha + x)**alpha/(x*(-alpha + x)) + alpha**2*x**alpha*(-alpha + x)**alpha/x**2 - alpha*x**alpha*(-alpha + x)**alpha/(-alpha + x)**2 - alpha*x**alpha*(-alpha + x)**alpha/x**2"
      ]
     },
     "execution_count": 4,
     "metadata": {},
     "output_type": "execute_result"
    }
   ],
   "source": [
    "single_2=(sym.diff((twf_2),x))\n",
    "double_2=(sym.diff((single_2),x))\n",
    "double_2"
   ]
  },
  {
   "cell_type": "code",
   "execution_count": 13,
   "metadata": {},
   "outputs": [
    {
     "data": {
      "text/latex": [
       "$\\displaystyle - \\frac{\\alpha h_{bar} \\int\\limits_{0}^{a} \\frac{x^{2 \\alpha} \\left(- \\alpha + x\\right)^{2 \\alpha} \\left(\\alpha^{3} - 4 \\alpha^{2} x - \\alpha^{2} + 4 \\alpha x^{2} + 2 \\alpha x - 2 x^{2}\\right)}{x^{2} \\left(- \\alpha + x\\right)^{2}}\\, dx}{2 m}$"
      ],
      "text/plain": [
       "-alpha*h_bar*Integral(x**(2*alpha)*(-alpha + x)**(2*alpha)*(alpha**3 - 4*alpha**2*x - alpha**2 + 4*alpha*x**2 + 2*alpha*x - 2*x**2)/(x**2*(-alpha + x)**2), (x, 0, a))/(2*m)"
      ]
     },
     "execution_count": 13,
     "metadata": {},
     "output_type": "execute_result"
    }
   ],
   "source": [
    "upper_i2=twf_2*(-1*hbar)/(2*m)*double_2\n",
    "upper_ians2=(sym.integrate((upper_i_2),(x,0,a)))\n",
    "upper_ians2"
   ]
  },
  {
   "cell_type": "code",
   "execution_count": null,
   "metadata": {},
   "outputs": [],
   "source": [
    "lower_i2=twf_2**2\n",
    "lower_ians2=(sym.integrate((lower_i_2),(x,0,a)))\n",
    "lower_ians2"
   ]
  },
  {
   "cell_type": "code",
   "execution_count": 14,
   "metadata": {},
   "outputs": [
    {
     "data": {
      "text/latex": [
       "$\\displaystyle - \\frac{a^{- 2 \\alpha} \\alpha \\alpha^{- 2 \\alpha} h_{bar} e^{- 2 i \\pi \\alpha} \\Gamma\\left(2 \\alpha + 2\\right) \\int\\limits_{0}^{a} \\frac{x^{2 \\alpha} \\left(- \\alpha + x\\right)^{2 \\alpha} \\left(\\alpha^{3} - 4 \\alpha^{2} x - \\alpha^{2} + 4 \\alpha x^{2} + 2 \\alpha x - 2 x^{2}\\right)}{x^{2} \\left(- \\alpha + x\\right)^{2}}\\, dx}{2 a m \\Gamma\\left(2 \\alpha + 1\\right) {{}_{2}F_{1}\\left(\\begin{matrix} - 2 \\alpha, 2 \\alpha + 1 \\\\ 2 \\alpha + 2 \\end{matrix}\\middle| {\\frac{a}{\\alpha}} \\right)}}$"
      ],
      "text/plain": [
       "-a**(-2*alpha)*alpha*alpha**(-2*alpha)*h_bar*exp(-2*I*pi*alpha)*gamma(2*alpha + 2)*Integral(x**(2*alpha)*(-alpha + x)**(2*alpha)*(alpha**3 - 4*alpha**2*x - alpha**2 + 4*alpha*x**2 + 2*alpha*x - 2*x**2)/(x**2*(-alpha + x)**2), (x, 0, a))/(2*a*m*gamma(2*alpha + 1)*hyper((-2*alpha, 2*alpha + 1), (2*alpha + 2,), a/alpha))"
      ]
     },
     "execution_count": 14,
     "metadata": {},
     "output_type": "execute_result"
    }
   ],
   "source": [
    "Etrial2=upper_i_ans_2/lower_i_ans_2\n",
    "Etrial2"
   ]
  },
  {
   "cell_type": "code",
   "execution_count": 16,
   "metadata": {},
   "outputs": [
    {
     "ename": "SyntaxError",
     "evalue": "invalid syntax (<ipython-input-16-b51c13145fde>, line 1)",
     "output_type": "error",
     "traceback": [
      "\u001b[1;36m  File \u001b[1;32m\"<ipython-input-16-b51c13145fde>\"\u001b[1;36m, line \u001b[1;32m1\u001b[0m\n\u001b[1;33m    print('The first E_trial is more ideal as it's closer to the true E')\u001b[0m\n\u001b[1;37m                                                 ^\u001b[0m\n\u001b[1;31mSyntaxError\u001b[0m\u001b[1;31m:\u001b[0m invalid syntax\n"
     ]
    }
   ],
   "source": [
    "print('The first E_trial is more ideal as it's closer to the true E')"
   ]
  },
  {
   "cell_type": "markdown",
   "metadata": {},
   "source": [
    "Your descriptions/explanations here"
   ]
  },
  {
   "cell_type": "markdown",
   "metadata": {},
   "source": [
    "### 2.4 Exercise: Design your own wavefunction!"
   ]
  },
  {
   "cell_type": "markdown",
   "metadata": {},
   "source": [
    "**Now you get to make your own wavefunction!**\n",
    "\n",
    "The only guidance I would give you is that it make sense mathematically and that it include $\\alpha$ so that you can minimize the energy.\n",
    "\n",
    "Remember that $a$ and $x$ are both length units, and that trigonometric, logarithmic, and exponential functions are all unitless  \n",
    "\n",
    "\n",
    "Using your new wavefunction:\n",
    "\n",
    "1. Find the minimum energy, $E_{trial}$\n",
    "2. Plot the new trial wavefunction and compare it to the true solution and the wavefunction you found above\n",
    "3. Compare you new energy to the trial energy you found above\n",
    "4. Which wavefunction is better? How do you know?"
   ]
  },
  {
   "cell_type": "code",
   "execution_count": null,
   "metadata": {},
   "outputs": [],
   "source": [
    "x,a,m,alpha,hbar=sym.symbols('x,a,m,alpha,h_bar')\n",
    "\n",
    "twf3=a**x*alpha\n",
    "twf3"
   ]
  },
  {
   "cell_type": "code",
   "execution_count": null,
   "metadata": {},
   "outputs": [],
   "source": [
    "single3=(sym.diff((twf_3),x))\n",
    "double3=(sym.diff((single_3),x))\n",
    "double3"
   ]
  },
  {
   "cell_type": "code",
   "execution_count": null,
   "metadata": {},
   "outputs": [],
   "source": [
    "upper_i3=twf_3*(-1*hbar)/(2*m)*double_3\n",
    "upper_i_ans3=(sym.integrate((upper_i_3),(x,0,a)))\n",
    "upper_i_ans3"
   ]
  },
  {
   "cell_type": "code",
   "execution_count": null,
   "metadata": {},
   "outputs": [],
   "source": [
    "lower_i3=twf_3**2\n",
    "lower_i_ans3=(sym.integrate((lower_i_3),(x,0,a)))\n",
    "lower_i_ans3"
   ]
  },
  {
   "cell_type": "code",
   "execution_count": null,
   "metadata": {},
   "outputs": [],
   "source": [
    "Etrial3=upper_i_ans_3/lower_i_ans_3\n",
    "Etrial3"
   ]
  },
  {
   "cell_type": "code",
   "execution_count": null,
   "metadata": {},
   "outputs": [],
   "source": [
    "print('The first E_trial is more ideal as it's closer to the true E')"
   ]
  },
  {
   "cell_type": "markdown",
   "metadata": {},
   "source": [
    "Your descriptions/explanations here"
   ]
  },
  {
   "cell_type": "markdown",
   "metadata": {},
   "source": [
    "# Reading Homework"
   ]
  },
  {
   "cell_type": "markdown",
   "metadata": {},
   "source": [
    "Read the following sections in Kramer\n",
    "\n",
    "- 4.2.3 Born-Oppenheimer approximation\n",
    "- 4.3.2 Secular equation\n",
    "- All of 4.5\n",
    "\n",
    "For each subsection\n",
    "- write down the subchapter name\n",
    "- what was the most important idea\n",
    "- draw an idea digram of the main idea\n",
    "\n",
    "**Make sure to upload this to the assignment repository**\n",
    "\n",
    "Example idea diagram:\n",
    "![Particle in a box](idea_map.png)"
   ]
  },
  {
   "cell_type": "code",
   "execution_count": null,
   "metadata": {},
   "outputs": [],
   "source": []
  }
 ],
 "metadata": {
  "kernelspec": {
   "display_name": "Python 3",
   "language": "python",
   "name": "python3"
  },
  "language_info": {
   "codemirror_mode": {
    "name": "ipython",
    "version": 3
   },
   "file_extension": ".py",
   "mimetype": "text/x-python",
   "name": "python",
   "nbconvert_exporter": "python",
   "pygments_lexer": "ipython3",
   "version": "3.7.3"
  }
 },
 "nbformat": 4,
 "nbformat_minor": 2
}
